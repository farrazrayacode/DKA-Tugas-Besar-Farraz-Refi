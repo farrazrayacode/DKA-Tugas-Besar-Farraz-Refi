{
 "cells": [
  {
   "cell_type": "code",
   "execution_count": null,
   "id": "9a8e3e00-9954-4f9f-aa1d-35be900f5b22",
   "metadata": {},
   "outputs": [],
   "source": [
    "TUGAS BESAR PROJECT DASAR KECERDASAN ARTIFICIAL"
   ]
  },
  {
   "cell_type": "code",
   "execution_count": 49,
   "id": "37d65c5b-fe9c-44f9-bc27-78edcf93d5d0",
   "metadata": {},
   "outputs": [],
   "source": [
    "import pandas as pd\n",
    "import numpy as np\n",
    "import skfuzzy as fuzz\n",
    "from skfuzzy import control as ctrl"
   ]
  },
  {
   "cell_type": "code",
   "execution_count": 51,
   "id": "a6ca95c1-b87d-43da-9113-0441e55096dc",
   "metadata": {},
   "outputs": [
    {
     "name": "stdout",
     "output_type": "stream",
     "text": [
      "       is_canceled   lead_time  arrival_date_year  arrival_date_week_number  \\\n",
      "count   217.000000  217.000000         217.000000                217.000000   \n",
      "mean      0.078341   40.520737        2015.465438                 38.198157   \n",
      "std       0.269329   61.748375           0.720053                 12.890292   \n",
      "min       0.000000    0.000000        2015.000000                  1.000000   \n",
      "25%       0.000000   12.000000        2015.000000                 33.000000   \n",
      "50%       0.000000   27.000000        2015.000000                 45.000000   \n",
      "75%       0.000000   36.000000        2016.000000                 46.000000   \n",
      "max       1.000000  364.000000        2017.000000                 53.000000   \n",
      "\n",
      "       arrival_date_day_of_month  stays_in_weekend_nights  \\\n",
      "count                 217.000000                217.00000   \n",
      "mean                   10.824885                  1.56682   \n",
      "std                     7.582065                  1.49270   \n",
      "min                     1.000000                  0.00000   \n",
      "25%                     6.000000                  0.00000   \n",
      "50%                     9.000000                  2.00000   \n",
      "75%                    13.000000                  2.00000   \n",
      "max                    31.000000                  9.00000   \n",
      "\n",
      "       stays_in_week_nights      adults    children  babies  \\\n",
      "count            217.000000  217.000000  217.000000   217.0   \n",
      "mean               4.631336    1.410138    0.036866     0.0   \n",
      "std                3.552846    0.520406    0.232788     0.0   \n",
      "min                0.000000    1.000000    0.000000     0.0   \n",
      "25%                2.000000    1.000000    0.000000     0.0   \n",
      "50%                4.000000    1.000000    0.000000     0.0   \n",
      "75%                6.000000    2.000000    0.000000     0.0   \n",
      "max               21.000000    3.000000    2.000000     0.0   \n",
      "\n",
      "       is_repeated_guest  previous_cancellations  \\\n",
      "count         217.000000              217.000000   \n",
      "mean            0.069124                0.009217   \n",
      "std             0.254252                0.135769   \n",
      "min             0.000000                0.000000   \n",
      "25%             0.000000                0.000000   \n",
      "50%             0.000000                0.000000   \n",
      "75%             0.000000                0.000000   \n",
      "max             1.000000                2.000000   \n",
      "\n",
      "       previous_bookings_not_canceled  booking_changes       agent  \\\n",
      "count                      217.000000       217.000000  217.000000   \n",
      "mean                         0.147465         1.285714  202.617512   \n",
      "std                          0.717768         1.251454  111.487444   \n",
      "min                          0.000000         0.000000    5.000000   \n",
      "25%                          0.000000         0.000000  185.000000   \n",
      "50%                          0.000000         1.000000  185.000000   \n",
      "75%                          0.000000         2.000000  324.000000   \n",
      "max                          7.000000         6.000000  444.000000   \n",
      "\n",
      "          company  days_in_waiting_list         adr  \\\n",
      "count  217.000000                 217.0  217.000000   \n",
      "mean   262.105991                   0.0   63.793733   \n",
      "std    103.602708                   0.0   38.823568   \n",
      "min      9.000000                   0.0    0.000000   \n",
      "25%    281.000000                   0.0   40.000000   \n",
      "50%    281.000000                   0.0   48.000000   \n",
      "75%    281.000000                   0.0   85.000000   \n",
      "max    499.000000                   0.0  246.000000   \n",
      "\n",
      "       required_car_parking_spaces  special_requests  \n",
      "count                   217.000000        217.000000  \n",
      "mean                      0.092166          0.198157  \n",
      "std                       0.289929          0.546365  \n",
      "min                       0.000000          0.000000  \n",
      "25%                       0.000000          0.000000  \n",
      "50%                       0.000000          0.000000  \n",
      "75%                       0.000000          0.000000  \n",
      "max                       1.000000          3.000000  \n"
     ]
    }
   ],
   "source": [
    "# Memasukkan dataset dan dibersihkan\n",
    "df = pd.read_csv(\"hotel_bookings.csv\")\n",
    "\n",
    "# Drop data yang tidak ada nilai\n",
    "df.dropna(inplace=True)\n",
    "\n",
    "# Rename salah satu nama column untuk mempersingkat\n",
    "df.rename(columns={'total_of_special_requests': 'special_requests'}, inplace=True)\n",
    "\n",
    "# Clip outliers to fit our fuzzy universe\n",
    "df['lead_time'] = df['lead_time'].clip(0, 500)\n",
    "df['adr'] = df['adr'].clip(0, 400)\n",
    "df['special_requests'] = df['special_requests'].clip(0, 5)\n",
    "df['booking_changes'] = df['booking_changes'].clip(0, 10)\n",
    "\n",
    "# Optional: Display summary\n",
    "print(df.describe())"
   ]
  },
  {
   "cell_type": "code",
   "execution_count": 53,
   "id": "89e1c86e-f8b3-4f9e-b272-2c10ae4af11c",
   "metadata": {},
   "outputs": [],
   "source": [
    "# Variable Fuzzy\n",
    "#Input\n",
    "lead_time = ctrl.Antecedent(np.arange(0, 501, 1), 'lead_time')\n",
    "adr = ctrl.Antecedent(np.arange(0, 401, 1), 'adr')\n",
    "special_requests = ctrl.Antecedent(np.arange(0, 6, 1), 'special_requests')\n",
    "booking_changes = ctrl.Antecedent(np.arange(0, 11, 1), 'booking_changes')\n",
    "\n",
    "#Output\n",
    "cancellation_risk = ctrl.Consequent(np.arange(0, 101, 1), 'cancellation_risk')"
   ]
  },
  {
   "cell_type": "code",
   "execution_count": 55,
   "id": "2d35feba-d970-4660-8008-8dd5a418dd73",
   "metadata": {},
   "outputs": [],
   "source": [
    "# Definisi Membership Functions\n",
    "lead_time['low'] = fuzz.trimf(lead_time.universe, [0, 0, 150])\n",
    "lead_time['medium'] = fuzz.trimf(lead_time.universe, [100, 250, 400])\n",
    "lead_time['high'] = fuzz.trimf(lead_time.universe, [300, 500, 500])\n",
    "\n",
    "adr['low'] = fuzz.trimf(adr.universe, [0, 0, 100])\n",
    "adr['medium'] = fuzz.trimf(adr.universe, [75, 150, 250])\n",
    "adr['high'] = fuzz.trimf(adr.universe, [200, 400, 400])\n",
    "\n",
    "special_requests['low'] = fuzz.trimf(special_requests.universe, [0, 0, 1])\n",
    "special_requests['medium'] = fuzz.trimf(special_requests.universe, [1, 2, 3])\n",
    "special_requests['high'] = fuzz.trimf(special_requests.universe, [2, 5, 5])\n",
    "\n",
    "booking_changes['low'] = fuzz.trimf(booking_changes.universe, [0, 0, 2])\n",
    "booking_changes['medium'] = fuzz.trimf(booking_changes.universe, [1, 3, 5])\n",
    "booking_changes['high'] = fuzz.trimf(booking_changes.universe, [4, 10, 10])\n",
    "\n",
    "cancellation_risk['low'] = fuzz.trimf(cancellation_risk.universe, [0, 0, 40])\n",
    "cancellation_risk['medium'] = fuzz.trimf(cancellation_risk.universe, [30, 50, 70])\n",
    "cancellation_risk['high'] = fuzz.trimf(cancellation_risk.universe, [60, 100, 100])"
   ]
  },
  {
   "cell_type": "code",
   "execution_count": 57,
   "id": "e599eed2-3918-4ef6-a659-6dd03ef204a1",
   "metadata": {},
   "outputs": [],
   "source": [
    "# Definisi Fuzzy Rule\n",
    "rule1 = ctrl.Rule(lead_time['high'] & adr['high'], cancellation_risk['high'])\n",
    "rule2 = ctrl.Rule(lead_time['low'] & special_requests['high'], cancellation_risk['low'])\n",
    "rule3 = ctrl.Rule(booking_changes['high'], cancellation_risk['high'])\n",
    "rule4 = ctrl.Rule(adr['low'] & booking_changes['low'], cancellation_risk['low'])\n",
    "rule5 = ctrl.Rule(special_requests['low'] & lead_time['medium'], cancellation_risk['medium'])"
   ]
  },
  {
   "cell_type": "code",
   "execution_count": 59,
   "id": "a94bb779-41df-4890-93aa-9b5023bd24c0",
   "metadata": {},
   "outputs": [],
   "source": [
    "# Membuat dan mensimulasikan System Control\n",
    "risk_ctrl = ctrl.ControlSystem([rule1, rule2, rule3, rule4, rule5])\n",
    "risk_sim = ctrl.ControlSystemSimulation(risk_ctrl)"
   ]
  },
  {
   "cell_type": "code",
   "execution_count": 130,
   "id": "5a9855bd-b1d9-40f9-a4a2-74a830242246",
   "metadata": {},
   "outputs": [],
   "source": [
    "# Simulasi dengan dataset\n",
    "sample = df[['lead_time', 'adr', 'special_requests', 'booking_changes']].sample(1).iloc[0]\n",
    "#.sample(1) untuk mengambil satu row random\n",
    "#.iloc(0) untuk mengambil data secara serial (mengikuti parameter)\n",
    "\n",
    "# Memasukkan nilai input\n",
    "risk_sim.input['lead_time'] = sample['lead_time']\n",
    "risk_sim.input['adr'] = sample['adr']\n",
    "risk_sim.input['special_requests'] = sample['special_requests']\n",
    "risk_sim.input['booking_changes'] = sample['booking_changes']\n",
    "\n",
    "# Menghitung hasilnya\n",
    "risk_sim.compute()"
   ]
  },
  {
   "cell_type": "code",
   "execution_count": 132,
   "id": "7cc79c29-5d5a-4120-bb8e-87d7e876b977",
   "metadata": {
    "scrolled": true
   },
   "outputs": [
    {
     "name": "stdout",
     "output_type": "stream",
     "text": [
      "Booking details:\n",
      "lead_time           28.0\n",
      "adr                 40.0\n",
      "special_requests     0.0\n",
      "booking_changes      1.0\n",
      "Name: 18211, dtype: float64\n",
      "\n",
      "Predicted cancellation risk: 15.56%\n"
     ]
    }
   ],
   "source": [
    "# Show Hasil \n",
    "print(\"Booking details:\")\n",
    "print(sample)\n",
    "try:\n",
    "    print(f\"\\nPredicted cancellation risk: {risk_sim.output['cancellation_risk']:.2f}%\")\n",
    "except Exception as e:\n",
    "    print(\"Tidak bisa dihitung risikonya\",e)\n",
    "\n",
    "#Pakai try karena kadang adabeberapa variabel yang hilang atau diluar range, atau fuzzy rule nya tidak ke trigger"
   ]
  },
  {
   "cell_type": "code",
   "execution_count": 134,
   "id": "3f0844c9-412b-4845-93c3-4fe9a950153d",
   "metadata": {},
   "outputs": [
    {
     "name": "stderr",
     "output_type": "stream",
     "text": [
      "/opt/anaconda3/lib/python3.12/site-packages/skfuzzy/control/fuzzyvariable.py:125: UserWarning: FigureCanvasAgg is non-interactive, and thus cannot be shown\n",
      "  fig.show()\n"
     ]
    },
    {
     "data": {
      "image/png": "[encoded data removed]",
      "text/plain": [
       "<Figure size 640x480 with 1 Axes>"
      ]
     },
     "metadata": {},
     "output_type": "display_data"
    }
   ],
   "source": [
    "# Visualisasi\n",
    "cancellation_risk.view(sim=risk_sim)"
   ]
  },
  {
   "cell_type": "code",
   "execution_count": null,
   "id": "f0298715-73d1-4af6-8f00-c53ee721a913",
   "metadata": {},
   "outputs": [],
   "source": []
  },
  {
   "cell_type": "code",
   "execution_count": null,
   "id": "9792a942-fb1c-44fa-b241-d71ef29ebdca",
   "metadata": {},
   "outputs": [],
   "source": []
  }
 ],
 "metadata": {
  "kernelspec": {
   "display_name": "Python [conda env:base] *",
   "language": "python",
   "name": "conda-base-py"
  },
  "language_info": {
   "codemirror_mode": {
    "name": "ipython",
    "version": 3
   },
   "file_extension": ".py",
   "mimetype": "text/x-python",
   "name": "python",
   "nbconvert_exporter": "python",
   "pygments_lexer": "ipython3",
   "version": "3.12.7"
  }
 },
 "nbformat": 4,
 "nbformat_minor": 5
}
