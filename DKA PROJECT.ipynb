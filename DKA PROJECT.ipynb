{
 "cells": [
  {
   "cell_type": "code",
   "execution_count": null,
   "id": "9a8e3e00-9954-4f9f-aa1d-35be900f5b22",
   "metadata": {},
   "outputs": [],
   "source": [
    "TUGAS BESAR PROJECT DASAR KECERDASAN ARTIFICIAL"
   ]
  },
  {
   "cell_type": "code",
   "execution_count": 13,
   "id": "37d65c5b-fe9c-44f9-bc27-78edcf93d5d0",
   "metadata": {},
   "outputs": [],
   "source": [
    "import pandas as pd\n",
    "import numpy as np\n",
    "import skfuzzy as fuzz\n",
    "from skfuzzy import control as ctrl\n",
    "import matplotlib.pyplot as plt\n",
    "import seaborn as sns"
   ]
  },
  {
   "cell_type": "code",
   "execution_count": 14,
   "id": "a6ca95c1-b87d-43da-9113-0441e55096dc",
   "metadata": {},
   "outputs": [
    {
     "name": "stdout",
     "output_type": "stream",
     "text": [
      "           lead_time            adr  total_of_special_requests  \\\n",
      "count  119390.000000  119390.000000              119390.000000   \n",
      "mean      103.755583     101.786073                   0.571363   \n",
      "std       105.798008      48.138316                   0.792798   \n",
      "min         0.000000       0.000000                   0.000000   \n",
      "25%        18.000000      69.290000                   0.000000   \n",
      "50%        69.000000      94.575000                   0.000000   \n",
      "75%       160.000000     126.000000                   1.000000   \n",
      "max       500.000000     400.000000                   5.000000   \n",
      "\n",
      "       booking_changes    is_canceled  \n",
      "count    119390.000000  119390.000000  \n",
      "mean          0.219943       0.370416  \n",
      "std           0.630146       0.482918  \n",
      "min           0.000000       0.000000  \n",
      "25%           0.000000       0.000000  \n",
      "50%           0.000000       0.000000  \n",
      "75%           0.000000       1.000000  \n",
      "max           9.000000       1.000000  \n"
     ]
    }
   ],
   "source": [
    "# Load the dataset\n",
    "df = pd.read_csv(\"hotel_bookings.csv\")\n",
    "\n",
    "# Select relevant columns\n",
    "df = df[['lead_time', 'adr', 'total_of_special_requests', 'booking_changes', 'is_canceled']]\n",
    "\n",
    "# Handle missing values (if any)\n",
    "df.dropna(inplace=True)\n",
    "\n",
    "# Clip outliers for fuzzy logic (optional but helps fuzzy control)\n",
    "df['lead_time'] = df['lead_time'].clip(0, 500)\n",
    "df['adr'] = df['adr'].clip(0, 400)\n",
    "df['total_of_special_requests'] = df['total_of_special_requests'].clip(0, 5)\n",
    "df['booking_changes'] = df['booking_changes'].clip(0, 9)\n",
    "\n",
    "# Optional: Display summary\n",
    "print(df.describe())"
   ]
  },
  {
   "cell_type": "code",
   "execution_count": 15,
   "id": "89e1c86e-f8b3-4f9e-b272-2c10ae4af11c",
   "metadata": {},
   "outputs": [],
   "source": [
    "# Define fuzzy variables\n",
    "lead_time = ctrl.Antecedent(np.arange(0, 501, 1), 'lead_time')\n",
    "adr = ctrl.Antecedent(np.arange(0, 401, 1), 'adr')\n",
    "special_requests = ctrl.Antecedent(np.arange(0, 6, 1), 'special_requests')\n",
    "booking_changes = ctrl.Antecedent(np.arange(0, 10, 1), 'booking_changes')\n",
    "cancellation_risk = ctrl.Consequent(np.arange(0, 101, 1), 'cancellation_risk')\n",
    "\n",
    "# Membership functions\n",
    "lead_time.automf(3)\n",
    "adr.automf(3)\n",
    "special_requests.automf(3)\n",
    "booking_changes.automf(3)\n",
    "\n",
    "# Manual membership functions\n",
    "lead_time['short'] = fuzz.trimf(lead_time.universe, [0, 0, 150])\n",
    "lead_time['medium'] = fuzz.trimf(lead_time.universe, [100, 250, 400])\n",
    "lead_time['long'] = fuzz.trimf(lead_time.universe, [300, 500, 500])\n",
    "\n",
    "adr['low'] = fuzz.trimf(adr.universe, [0, 0, 100])\n",
    "adr['medium'] = fuzz.trimf(adr.universe, [75, 150, 250])\n",
    "adr['high'] = fuzz.trimf(adr.universe, [200, 400, 400])\n",
    "\n",
    "special_requests['low'] = fuzz.trimf(special_requests.universe, [0, 0, 1])\n",
    "special_requests['medium'] = fuzz.trimf(special_requests.universe, [1, 2, 3])\n",
    "special_requests['high'] = fuzz.trimf(special_requests.universe, [2, 5, 5])\n",
    "\n",
    "booking_changes['low'] = fuzz.trimf(booking_changes.universe, [0, 0, 2])\n",
    "booking_changes['medium'] = fuzz.trimf(booking_changes.universe, [1, 3, 5])\n",
    "booking_changes['high'] = fuzz.trimf(booking_changes.universe, [4, 10, 10])\n",
    "\n",
    "cancellation_risk['low'] = fuzz.trimf(cancellation_risk.universe, [0, 0, 40])\n",
    "cancellation_risk['medium'] = fuzz.trimf(cancellation_risk.universe, [30, 50, 70])\n",
    "cancellation_risk['high'] = fuzz.trimf(cancellation_risk.universe, [60, 100, 100])\n",
    "\n",
    "# Fuzzy rules\n",
    "rule1 = ctrl.Rule(lead_time['long'] & adr['high'], cancellation_risk['high'])\n",
    "rule2 = ctrl.Rule(lead_time['short'] & special_requests['high'], cancellation_risk['low'])\n",
    "rule3 = ctrl.Rule(booking_changes['high'], cancellation_risk['high'])\n",
    "\n",
    "# Control System\n",
    "cancellation_ctrl = ctrl.ControlSystem([rule1, rule2, rule3])\n",
    "cancellation_sim = ctrl.ControlSystemSimulation(cancellation_ctrl)\n",
    "\n",
    "# Function to predict cancellation risk\n",
    "def predict_cancellation_risk(lt, rate, requests, changes):\n",
    "    cancellation_sim.input['lead_time'] = lt\n",
    "    cancellation_sim.input['adr'] = rate\n",
    "    cancellation_sim.input['special_requests'] = requests\n",
    "    cancellation_sim.input['booking_changes'] = changes\n",
    "    cancellation_sim.compute()\n",
    "    return cancellation_sim.output['cancellation_risk']"
   ]
  },
  {
   "cell_type": "code",
   "execution_count": null,
   "id": "2d35feba-d970-4660-8008-8dd5a418dd73",
   "metadata": {},
   "outputs": [],
   "source": []
  },
  {
   "cell_type": "code",
   "execution_count": null,
   "id": "e599eed2-3918-4ef6-a659-6dd03ef204a1",
   "metadata": {},
   "outputs": [],
   "source": []
  }
 ],
 "metadata": {
  "kernelspec": {
   "display_name": "Python [conda env:base] *",
   "language": "python",
   "name": "conda-base-py"
  },
  "language_info": {
   "codemirror_mode": {
    "name": "ipython",
    "version": 3
   },
   "file_extension": ".py",
   "mimetype": "text/x-python",
   "name": "python",
   "nbconvert_exporter": "python",
   "pygments_lexer": "ipython3",
   "version": "3.12.7"
  }
 },
 "nbformat": 4,
 "nbformat_minor": 5
}
